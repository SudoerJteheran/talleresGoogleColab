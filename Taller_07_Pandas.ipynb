{
  "nbformat": 4,
  "nbformat_minor": 0,
  "metadata": {
    "colab": {
      "provenance": [],
      "toc_visible": true,
      "authorship_tag": "ABX9TyM2qx+Mq0HWn9Eu7hZIJ1ih",
      "include_colab_link": true
    },
    "kernelspec": {
      "name": "python3",
      "display_name": "Python 3"
    }
  },
  "cells": [
    {
      "cell_type": "markdown",
      "metadata": {
        "id": "view-in-github",
        "colab_type": "text"
      },
      "source": [
        "<a href=\"https://colab.research.google.com/github/gabrielawad/talleresGoogleColab/blob/main/Taller_07_Pandas.ipynb\" target=\"_parent\"><img src=\"https://colab.research.google.com/assets/colab-badge.svg\" alt=\"Open In Colab\"/></a>"
      ]
    },
    {
      "cell_type": "markdown",
      "source": [
        "## «*Mide diez veces, pero no cortes más que una.*»\n",
        "\n",
        "### Proverbio ruso"
      ],
      "metadata": {
        "id": "bJtz1A8wSiah"
      }
    },
    {
      "cell_type": "markdown",
      "metadata": {
        "id": "mCkyuX8p2SYu"
      },
      "source": [
        "# Taller 07 Pandas\n",
        "En este taller aprenderá los conceptos básicos de Python 3 relativos a la librería Pandas (Python Data Analysis Library).\n",
        "\n",
        "Pandas **no es una librería nativa** de Python por lo que **requiere ser instalada antes de ser invocada**. Sin embargo, esta librería sí está preinstalada en Google Colaboratory por lo que basta invocarla para poder usar sus funcionalidades.\n",
        "\n",
        "Puede consultar más información en: [pandas](https://pandas.pydata.org/)."
      ]
    },
    {
      "cell_type": "markdown",
      "source": [
        "# Referencias\n",
        "Este taller se basa en información e ideas recopiladas de las siguientes fuentes:\n",
        "\n",
        "* [Documentación oficial de pandas](https://pandas.pydata.org/pandas-docs/stable/index.html) \n",
        "\n",
        "* [Tutorial de pandas](https://www.interactivechaos.com/manual/tutorial-de-pandas/tutorial-de-pandas)\n",
        "\n",
        "* [Learn pandas with 50 examples](https://www.listendata.com/2017/12/python-pandas-tutorial.html)\n",
        "\n",
        "* [Python-Pandas cheat sheet: 30 functions-methods](https://jyoti05iitd.medium.com/python-pandas-cheat-sheet-30-functions-methods-b1176f2e37da)\n",
        "\n",
        "* [Fhernd/Python-Pandas-Ejercicios](https://github.com/Fhernd/Python-Pandas-Ejercicios/blob/master/Python-Pandas-Ejercicios-Serie1.ipynb)"
      ],
      "metadata": {
        "id": "CfYL5oGdTacj"
      }
    },
    {
      "cell_type": "markdown",
      "metadata": {
        "id": "wQEVl6nFoPj4"
      },
      "source": [
        "# Series en pandas\n",
        "\n",
        "Las Series en pandas son listas que tienen asociado un **índice** (etiqueta asociada con la posición)."
      ]
    },
    {
      "cell_type": "markdown",
      "metadata": {
        "id": "lEzY7oL5Vjw0"
      },
      "source": [
        "### Crear una serie en pandas\n"
      ]
    },
    {
      "cell_type": "code",
      "metadata": {
        "id": "19D1XvJHnUvq"
      },
      "source": [
        "# Importar las librerías requeridas\n",
        "import pandas as pd\n",
        "import numpy as np\n",
        "\n",
        "# Listas \"tradicionales\"\n",
        "h = [1,2,2,5,10,8] \n",
        "print('Esta es una lista \\\"tradicional\\\" en Python: ', h)\n",
        "\n",
        "# Una serie en pandas\n",
        "a = pd.Series([1,2,2,5,10,8]) \n",
        "print(\"Esta es una serie en pandas:\\n\",a,\"\\n\")\n",
        "\n",
        "# Crear una serie que incluye un elemento de NumPy\n",
        "s = pd.Series([1,2,2,np.nan,10,8]) \n",
        "#s = pd.Series([1,2,2,10,8]) \n",
        "print(\"Esta es otra serie en pandas:\\n\",s,\"\\n\")\n",
        "\n",
        "# Crear una serie a partir de una lista\n",
        "s = pd.Series(h) \n",
        "print(\"Esta es una serie en pandas creada a partir de una lista de Python:\\n\",s,\"\\n\")"
      ],
      "execution_count": null,
      "outputs": []
    },
    {
      "cell_type": "markdown",
      "metadata": {
        "id": "Ps7TrVdHnUvw"
      },
      "source": [
        "### Crear índices en pandas\n",
        "\n",
        "Una de las formas de crear índices es a partir de frecuencias cronológicas (día, mes, año)."
      ]
    },
    {
      "cell_type": "code",
      "metadata": {
        "id": "qyRRECosnUvx"
      },
      "source": [
        "# Importar las librerías requeridas\n",
        "import pandas as pd\n",
        "\n",
        "'''\n",
        "Un índice no es más que una lista de datos.\n",
        "'''\n",
        "# Crear un índice de frecuencia diaria\n",
        "fechas_d = pd.date_range('20200227', periods=550, freq='D')\n",
        "print(\"Frecuencia diaria: \\n\", fechas_d)\n",
        "\n",
        "# Crear un índice de frecuencia mensual\n",
        "fechas_m = pd.date_range('20160301', periods=18, freq='M')\n",
        "print(\"Frecuencia mensual: \\n\", fechas_m)\n",
        "\n",
        "# Crear un índice de frecuencia anual\n",
        "fechas_a = pd.date_range('20160301', periods=6, freq='A')\n",
        "print(\"Frecuencia anual: \\n\", fechas_a)"
      ],
      "execution_count": null,
      "outputs": []
    },
    {
      "cell_type": "markdown",
      "metadata": {
        "id": "m2wSZ0yFnUvz"
      },
      "source": [
        "### Asignar un índice a una serie\n",
        "\n",
        "Los índices se pueden asignar a las series."
      ]
    },
    {
      "cell_type": "code",
      "metadata": {
        "id": "xf7c_pqBnUv0"
      },
      "source": [
        "# Importar las librerías requeridas\n",
        "import pandas as pd\n",
        "\n",
        "# Crear un rango de fechas\n",
        "fechas = pd.date_range('20160301', periods=6)\n",
        "print(\"Este es un índice de fechas: \", fechas)\n",
        "\n",
        "# Convertir ts = pd.Series([1,3,5,2,6,8]) en una serie con índice cronológico\n",
        "ts = pd.Series([1,3,5,2,6,8], index=fechas)\n",
        "print(\"Esta es una serie con un índice cronológico:\\n\", ts)\n",
        "\n",
        "# Crear un rango cualquiera\n",
        "letras = pd.Series([\"A\",\"B\",\"C\",\"D\",\"E\",\"F\"])\n",
        "print(\"Este es una serie alfabética: \\n\", letras)\n",
        "\n",
        "# Convertir ts = pd.Series([1,3,5,2,6,8]) en una serie con índice alfabético\n",
        "ts = pd.Series([1,3,5,2,6,8], index=letras)\n",
        "print(\"Esta es una serie con un índice alfabético:\\n\", ts)"
      ],
      "execution_count": null,
      "outputs": []
    },
    {
      "cell_type": "markdown",
      "metadata": {
        "id": "opyERYYunUv6"
      },
      "source": [
        "# DataFrames\n",
        "\n",
        "Los DataFrames en pandas son **arreglos** (matrices) que tienen asociados índices (etiquetas de posición) en sus filas y en sus columnas."
      ]
    },
    {
      "cell_type": "markdown",
      "metadata": {
        "id": "4Tfdbd80YPF3"
      },
      "source": [
        "### Crear un DataFrame a partir de una matriz"
      ]
    },
    {
      "cell_type": "code",
      "metadata": {
        "id": "z8dhmuV5nUv7"
      },
      "source": [
        "# Importar las librerías necesarias\n",
        "import pandas as pd\n",
        "import numpy as np\n",
        "\n",
        "# Crear una matriz de NumPy (tres filas x seis columnas) con números aleatorios\n",
        "matriz_datos = np.random.randn(3, 6)\n",
        "print(\"Matriz de NumPy datos aleatorios \")\n",
        "print(matriz_datos)\n",
        "\n",
        "# Crear los índices para las filas\n",
        "filas = ['Fila 1', 'Fila 2', 'Fila n']\n",
        "\n",
        "# Crear las etiquetas para  las columnas\n",
        "'''\n",
        "Ensaye a ejecutar el código anulando la línea 17 y activando la línea 18\n",
        "'''\n",
        "columnas = list('ABZXYC')\n",
        "#columnas = ['Grupo 0', 'Grupo 1', 'Grupo 2', 'Grupo 3','Grupo 4', 'Grupo 5']\n",
        "\n",
        "# Crear el DataFrame\n",
        "df = pd.DataFrame(matriz_datos, index=filas, columns=columnas)\n",
        "print(\"DataFrame de pandas\", df, sep = \"\\n\")"
      ],
      "execution_count": null,
      "outputs": []
    },
    {
      "cell_type": "markdown",
      "metadata": {
        "id": "kmx_hNbfnUv-"
      },
      "source": [
        "### Crear un DataFrame a partir de un diccionario"
      ]
    },
    {
      "cell_type": "code",
      "metadata": {
        "id": "IPLlM3bGnUv_"
      },
      "source": [
        "# Importar las librerías necesarias\n",
        "import pandas as pd\n",
        "\n",
        "# Crear un DataFrame a partir de un diccionario\n",
        "# las claves del diccionario se convierten en las etiquetas de las columnas del DataFrame\n",
        "df_dict = pd.DataFrame({'codigo' : np.random.randn(4),\n",
        "                    'fecha' : pd.date_range('20170301', periods=4, freq='M'),\n",
        "                    'nota' : pd.Series([1, 5, 2, 3],index=list(range(4)) ,dtype='float32'),\n",
        "                    'intento' : np.array([3,2] * 2),\n",
        "                    'genero' : pd.Categorical([\"F\",\"M\",\"F\",\"M\"]),\n",
        "                    'comentario' : 'Texto' })\n",
        "print(f\"DataFrame creado a partir de un diccionario:\\n {df_dict}\")"
      ],
      "execution_count": null,
      "outputs": []
    },
    {
      "cell_type": "markdown",
      "metadata": {
        "id": "D2vanekBnUwC"
      },
      "source": [
        "### Algunos atributos y funciones de un DataFrame"
      ]
    },
    {
      "cell_type": "code",
      "metadata": {
        "id": "S0Gqu5l2nUwD"
      },
      "source": [
        "print(\"La forma del DataFrame es:\", df_dict.shape, sep = \"\\n\")\n",
        "\n",
        "print(\"Los nombres de las columnas del DataFrame son:\", df_dict.columns.tolist(), sep = \"\\n\")\n",
        "\n",
        "print(\"Tipo de datos correspondendiente a las columnas:\", df_dict.dtypes, sep = \"\\n\")\n",
        "\n",
        "print(\"\\nDatos originales:\", df_dict, sep = \"\\n\")\n",
        "\n",
        "print(\"\\nTranspuesta:\", df_dict.T, sep = \"\\n\")\n",
        "\n",
        "print(\"\\nRepresentación en NumPy del DataFrame:\", df_dict.values, sep = \"\\n\")\n",
        "\n",
        "print(\"\\nValor absoluto de la columna «nota» en el DataFrame:\", df_dict[\"nota\"].abs(), sep = \"\\n\")\n",
        "\n",
        "print(\"\\nCovarianza de cada valor del DataFrame:\", df_dict.cov(), sep = \"\\n\")\n",
        "\n",
        "# Cambiar el nombre de una columna del DataFrame\n",
        "df_dict = df_dict.rename(columns={\"intento\": \"ensayo\"})\n",
        "print(\"DataFrame con el nombre de una columna cambiado\", df_dict, sep = \"\\n\")"
      ],
      "execution_count": null,
      "outputs": []
    },
    {
      "cell_type": "markdown",
      "source": [
        "### Ubicar elementos en un arreglo\n",
        "\n",
        "**at**: se utiliza con etiquetas («nombres») de filas y de columnas\n",
        "\n",
        "**iat**: se utiliza con los números correspondientes a las filas y a las columnas. **Ambos índices tienen que ser números enteros**."
      ],
      "metadata": {
        "id": "epqm3MCVfdOw"
      }
    },
    {
      "cell_type": "code",
      "source": [
        "# Ubicar un elemento por la combinación del nombre de la fila y el nombre de la columna\n",
        "print(\"\\nValor en la fila '2' y columna 'genero':\", df_dict.at[2, 'genero'], \"\\n\")\n",
        "\n",
        "'''\n",
        "Active la línea 7 y observe lo que sucede al ejecutar el código\n",
        "'''\n",
        "\n",
        "#print(\"\\nValor en la fila '2' y columna 'genero':\", df_dict.iat[2, 'genero'], \"\\n\")\n",
        "\n",
        "# Ubicar un elemento por la combinación del número de la fila y el número de la columna\n",
        "print(\"\\nValor en la fila '2' y valor en la columna 4:\", df_dict.iat[2, 4], \"\\n\")"
      ],
      "metadata": {
        "id": "SkHml2gogSop"
      },
      "execution_count": null,
      "outputs": []
    },
    {
      "cell_type": "markdown",
      "metadata": {
        "id": "x53-ZHKz9Rh7"
      },
      "source": [
        "### Seleccionar las primeras filas de un DataFrame"
      ]
    },
    {
      "cell_type": "code",
      "metadata": {
        "id": "5kpMvEfNnUwG"
      },
      "source": [
        "print(\"Primeras tres filas del DataFrame:\", df_dict.head(3), sep =\"\\n\")\n",
        "df_dict.head(3)"
      ],
      "execution_count": null,
      "outputs": []
    },
    {
      "cell_type": "markdown",
      "metadata": {
        "id": "KFkRaN5z9ivI"
      },
      "source": [
        "### Seleccionar las últimas filas de un DataFrame"
      ]
    },
    {
      "cell_type": "code",
      "metadata": {
        "id": "g4Tw2wEInUwI"
      },
      "source": [
        "print(\"Últimas fila del DataFrame:\", df_dict.tail(2), sep=\"\\n\")\n",
        "\n",
        "df_dict.tail(2)"
      ],
      "execution_count": null,
      "outputs": []
    },
    {
      "cell_type": "markdown",
      "metadata": {
        "id": "chLCbizm9yc2"
      },
      "source": [
        "### Mostrar los principales indicadores de las variables numéricas de un DataFrame"
      ]
    },
    {
      "cell_type": "code",
      "metadata": {
        "id": "llMFCJYnnUwL"
      },
      "source": [
        "print(\"Descripción rápida del DataFrame:\")\n",
        "df_dict.describe()"
      ],
      "execution_count": null,
      "outputs": []
    },
    {
      "cell_type": "markdown",
      "metadata": {
        "id": "oOHpxuTh-HKS"
      },
      "source": [
        "### Mostrar las etiquetas de las filas y las columnas de un DataFrame"
      ]
    },
    {
      "cell_type": "code",
      "metadata": {
        "id": "5MW8LDLRnUwO"
      },
      "source": [
        "print(\"\\nÍndice de las filas del DataFrame:\\n\", df_dict.index)\n",
        "print(\"\\nColumnas del DataFrame:\\n\", df_dict.columns)"
      ],
      "execution_count": null,
      "outputs": []
    },
    {
      "cell_type": "markdown",
      "metadata": {
        "id": "y_ijujnx-YrL"
      },
      "source": [
        "### Ordenar un DataFrame por su índice"
      ]
    },
    {
      "cell_type": "code",
      "metadata": {
        "id": "lkCsHZdpnUwQ"
      },
      "source": [
        "print(\"Ordenar por indice:\")\n",
        "df_dict.sort_index(axis=0, ascending=False)\n",
        "#df_dict.sort_index(axis=0, ascending=True)"
      ],
      "execution_count": null,
      "outputs": []
    },
    {
      "cell_type": "markdown",
      "metadata": {
        "id": "2OdNhtHE-hnP"
      },
      "source": [
        "### Ordenar un DataFrame por los valores de una de sus columnas"
      ]
    },
    {
      "cell_type": "code",
      "metadata": {
        "id": "q5-22LHinUwS"
      },
      "source": [
        "print(\"Ordenar por valores:\")\n",
        "#df_dict.sort_values(by='nota')\n",
        "df_dict.sort_values(by='nota', ascending=False)"
      ],
      "execution_count": null,
      "outputs": []
    },
    {
      "cell_type": "markdown",
      "metadata": {
        "id": "EoDxhI24nUwU"
      },
      "source": [
        "### Selección o filtrado de datos\n",
        "\n",
        "**loc**: se utiliza con etiquetas («nombres») de filas y de columnas\n",
        "\n",
        "**iloc**: se utiliza con los números correspondientes a las filas y a las columnas. **Ambos índices tienen que ser números enteros**."
      ]
    },
    {
      "cell_type": "code",
      "metadata": {
        "id": "QEE3YDSUnUwV"
      },
      "source": [
        "# Mostrar columna \"codigo\"\n",
        "print(\"Filtrar por columnas:\")\n",
        "print(df_dict['codigo']) \n",
        "\n",
        "# Filtrar por indices\n",
        "print(\"\\nFiltrar por índices:\")\n",
        "print(df_dict[1:2]) \n",
        "\n",
        "print(\"\\nFiltrar por índices:\")\n",
        "print(df_dict.loc[2])\n",
        "\n",
        "# loc se usa cuando se va a filtrar con etiquetas\n",
        "print(\"\\nFiltrar por índices de filas y etiquetas de columnas:\")\n",
        "print(df_dict.loc[2:,['fecha', 'nota']])\n",
        "\n",
        "# iloc se usa cuando se va a filtrar con números de columnas\n",
        "print(\"\\nFiltrar por posicion en indices:\")\n",
        "print(df_dict.iloc[[1, 2], [3, 5]])\n",
        "print('\\n',df_dict.iloc[1:2,0:2])"
      ],
      "execution_count": null,
      "outputs": []
    },
    {
      "cell_type": "markdown",
      "metadata": {
        "id": "nyTvr0srnUwX"
      },
      "source": [
        "### Selección condicional con pandas por columnas y valores"
      ]
    },
    {
      "cell_type": "code",
      "metadata": {
        "id": "qXxpIMrAnUwY"
      },
      "source": [
        "'''\n",
        "Obtener las filas de df_dict donde en la columna \"nota\" su valor es mayor a 1\n",
        "'''\n",
        "\n",
        "# Formato nombreDF.nombreCol\n",
        "df_dict[df_dict.nota > 1]\n",
        "\n",
        "# Formato nombreDF[\"nombreCol\"]\n",
        "#df_dict[(df_dict['nota'] > 1)]"
      ],
      "execution_count": null,
      "outputs": []
    },
    {
      "cell_type": "markdown",
      "metadata": {
        "id": "VGmMlVw5Ox7-"
      },
      "source": [
        "### Selección condicional con pandas por columnas y rangos de valores"
      ]
    },
    {
      "cell_type": "code",
      "metadata": {
        "id": "BrNxqBjTnUwa"
      },
      "source": [
        "'''\n",
        "Obtener las filas de df_dict donde en la columna \"nota\" su valor es mayor a 3\n",
        "y menor a 5\n",
        "'''\n",
        "\n",
        "# Formato nombreDF.nombreCol\n",
        "newDF_1 = df_dict[(df_dict.nota > 3) & (df_dict.nota <=5)]\n",
        "\n",
        "# Formato nombreDF[\"nombreCol\"]\n",
        "newDF_2 = df_dict[(df_dict['nota'] > 3) & (df_dict['nota'] <=5)]\n",
        "\n",
        "print(newDF_1, \"\\n\")\n",
        "\n",
        "print(newDF_2, \"\\n\")\n",
        "\n"
      ],
      "execution_count": null,
      "outputs": []
    },
    {
      "cell_type": "markdown",
      "metadata": {
        "id": "zkBpA4b5PAGW"
      },
      "source": [
        "### Selección condicional con pandas usando .loc"
      ]
    },
    {
      "cell_type": "code",
      "metadata": {
        "id": "v17SXw0oq_sP"
      },
      "source": [
        "# Selección condicional con .loc\n",
        "\n",
        "# Formato nombreDF[\"nombreCol\"]\n",
        "new_df_1 = df_dict.loc[(df_dict['nota'] > 2) & (df_dict['nota'] <=5)]         \n",
        "\n",
        "# Formato nombreDF.nombreCol\n",
        "new_df_2 = df_dict.loc[(df_dict.nota > 2) & (df_dict.nota <=5)]         \n",
        "\n",
        "print (new_df_1, \"\\n\")\n",
        "\n",
        "print (new_df_2)"
      ],
      "execution_count": null,
      "outputs": []
    },
    {
      "cell_type": "markdown",
      "source": [
        "# Aplicaciones"
      ],
      "metadata": {
        "id": "iOMGnoFDW-eN"
      }
    },
    {
      "cell_type": "markdown",
      "source": [
        "## Limpieza de datos\n",
        "\n",
        "Aplicación basada en [Base de datos empresas constructoras Oriente Antioqueño](https://www.datos.gov.co/Comercio-Industria-y-Turismo/Base-de-datos-empresas-constructoras-Oriente-Antio/ffr8-4wq2) disponible en [Datos abiertos](https://www.datos.gov.co/)."
      ],
      "metadata": {
        "id": "ftGlUKr598Hd"
      }
    },
    {
      "cell_type": "markdown",
      "source": [
        "### Habilitar el acceso a los archivos del Drive"
      ],
      "metadata": {
        "id": "x6O9gJ3G-N_t"
      }
    },
    {
      "cell_type": "code",
      "source": [
        "# Habilitar el acceso a los archivos del Drive\n",
        "import google.colab as gc\n",
        "gc.drive.mount('/content/drive')"
      ],
      "metadata": {
        "id": "0MiwaKnX-bgX"
      },
      "execution_count": null,
      "outputs": []
    },
    {
      "cell_type": "markdown",
      "source": [
        "### Cargar librerías y obtener información del archivo"
      ],
      "metadata": {
        "id": "8-RXDIiR-BYS"
      }
    },
    {
      "cell_type": "code",
      "source": [
        "# Importar lbrerías requeridas\n",
        "import pandas as pd\n",
        "import numpy as np\n",
        "\n",
        "# Cargar los datos\n",
        "ruta_constructores = '/content/drive/MyDrive/Colab Notebooks/Programación/Archivos_datos/Base_de_datos_empresas_constructoras_Oriente_Antioque_o.csv'\n",
        "\n",
        "constructores_df = pd.read_csv(ruta_constructores, sep=',')\n",
        "print (constructores_df)"
      ],
      "metadata": {
        "id": "j8VNot04-Lz4"
      },
      "execution_count": null,
      "outputs": []
    },
    {
      "cell_type": "markdown",
      "source": [
        "### Analizar la información del archivo"
      ],
      "metadata": {
        "id": "mJzso013BVif"
      }
    },
    {
      "cell_type": "code",
      "source": [
        "# Encontrar los nommbres de las columnas\n",
        "print(\"Los nombres de las columnas del DataFrame son:\", constructores_df.columns.tolist(), sep = \"\\n\")\n",
        "\n",
        "# Encontrar los nombres de las filas\n",
        "print(\"\\nÍndice de las filas del DataFrame:\\n\", constructores_df.index, sep = \"\\n\")\n",
        "\n",
        "# Verficar los tipos de datos de las columnas\n",
        "print(\"Tipo de datos correspondendiente a las columnas:\", constructores_df.dtypes, sep = \"\\n\")"
      ],
      "metadata": {
        "id": "5eHIc0z9BrQ-"
      },
      "execution_count": null,
      "outputs": []
    },
    {
      "cell_type": "markdown",
      "source": [
        "### Depurar la información del archivo"
      ],
      "metadata": {
        "id": "COASBvrWCfpR"
      }
    },
    {
      "cell_type": "code",
      "source": [
        "# Chequear la forma del DataFrame original\n",
        "print(\"La forma del DataFrame original es:\", constructores_df.shape, sep = \"\\n\")\n",
        "\n",
        "# Chequear si hay columnas con valores NA\n",
        "print(\"\\nReporte de NAs por columnas del DataFrame original:\", constructores_df.isna().sum(), sep = \"\\n\")\n",
        "\n",
        "# Eliminar las filas con valores NA\n",
        "constructores_df_2 = constructores_df.dropna()\n",
        "print(\"\\nReporte de NAs por columnas después de eliminar las filas valores NA:\", constructores_df_2.isna().sum(), sep = \"\\n\")\n",
        "\n",
        "# Chequear la forma del DataFrame después de suprimir las filas con valores NA\n",
        "print(\"La forma del nuevo DataFrame después de suprimir las filas con valores NA es:\", constructores_df_2.shape, sep = \"\\n\")\n",
        "\n",
        "# Cambiar los valores NA por 0\n",
        "constructores_df_3 = constructores_df.fillna(value = 0)\n",
        "print(\"\\nReporte de NAs por columnas después de cambiar los valores NA por 0:\", constructores_df_3.isna().sum(), sep = \"\\n\")\n",
        "\n",
        "# Chequear la forma del DataFrame después de cambiar los valores NA por 0\n",
        "print(\"La forma del nuevo DataFrame después de cambiar los valores NA por = es:\", constructores_df_3.shape, sep = \"\\n\")"
      ],
      "metadata": {
        "id": "USv3OZxcCqmw"
      },
      "execution_count": null,
      "outputs": []
    },
    {
      "cell_type": "markdown",
      "metadata": {
        "id": "_Z38tLR3tH1d"
      },
      "source": [
        "## Pruebas Saber\n",
        "\n",
        "El taller se basa en el archivo: [Pruebas Saber 11 2016-2](https://docs.google.com/spreadsheets/d/1lSntru6cVY2VPSYoG-M6pDXFUsJMR5eNgd6EtSrakH8/edit#gid=747368693). \n",
        "\n",
        "Puede acceder a los datos con los resultados de las pruebas del ICFES en el siguiente enlace:\n",
        "\n",
        "[Portal ICFES - resultados](https://www.icfes.gov.co/resultados-saber)"
      ]
    },
    {
      "cell_type": "markdown",
      "source": [
        "### Habilitar el acceso a los archivos del Drive"
      ],
      "metadata": {
        "id": "VyZ8VhVmXv35"
      }
    },
    {
      "cell_type": "code",
      "source": [
        "# Habilitar el acceso a los archivos del Drive\n",
        "import google.colab as gc\n",
        "gc.drive.mount('/content/drive')"
      ],
      "metadata": {
        "id": "-an3M-k0YCGy"
      },
      "execution_count": null,
      "outputs": []
    },
    {
      "cell_type": "markdown",
      "metadata": {
        "id": "0qzwILCjtYS_"
      },
      "source": [
        "### Cargar librerías y obtener información de archivo"
      ]
    },
    {
      "cell_type": "code",
      "metadata": {
        "id": "G8mmU8tWoPlA"
      },
      "source": [
        "# Importar lbrerías requeridas\n",
        "import pandas as pd\n",
        "import numpy as np\n",
        "import matplotlib.pyplot as plt\n",
        "import openpyxl\n",
        "\n",
        "# Cargar los datos\n",
        "#saber_df = pd.read_csv('saber11_20162.csv', sep=';', decimal=',')\n",
        "\n",
        "ruta_saber = '/content/drive/MyDrive/Colab Notebooks/Programación/Archivos_datos/saber11_20162.csv'\n",
        "\n",
        "saber_df = pd.read_csv(ruta_saber, sep=';', decimal=',')\n",
        "print (saber_df)"
      ],
      "execution_count": null,
      "outputs": []
    },
    {
      "cell_type": "markdown",
      "metadata": {
        "id": "P2sm1lLJ6foZ"
      },
      "source": [
        "### Seleccionar municipio y procesar datos"
      ]
    },
    {
      "cell_type": "code",
      "metadata": {
        "id": "Aj_uixgYtGxP"
      },
      "source": [
        "# Seleccionar el municipio deseado\n",
        "datos = saber_df[saber_df.CODIGOMUNICIPIO == 5001]\n",
        "#datos = saber_df[saber_df.CODIGOMUNICIPIO == 11001]\n",
        "\n",
        "# Seleccionar las columnas requeridas\n",
        "promedios = datos.iloc[:, 9:14]\n",
        "df3 = pd.DataFrame(promedios.values, index=datos['NOMBREINSTITUCION'], columns=promedios.columns)\n",
        "\n",
        "# Calcular el promedio y graficar\n",
        "promedios = df3.mean(1)\n",
        "promedios = promedios.sort_values(ascending=False)\n",
        "promedios[:10].plot(kind='barh')\n",
        "plt.show()"
      ],
      "execution_count": null,
      "outputs": []
    },
    {
      "cell_type": "markdown",
      "metadata": {
        "id": "zrNhfhul6vKn"
      },
      "source": [
        "### Mostrar resultados"
      ]
    },
    {
      "cell_type": "code",
      "metadata": {
        "id": "Vwv6n6X0yGry"
      },
      "source": [
        "# Mostrar los resultados\n",
        "print(promedios[:10])"
      ],
      "execution_count": null,
      "outputs": []
    },
    {
      "cell_type": "markdown",
      "source": [
        "## Produccción de madera en Colombia\n",
        "\n",
        "Aplicación basada en la base de datos sobre [plantaciones forestales comerciales](https://docs.google.com/spreadsheets/d/1zTXJkTzXMant4mMHDarYH9s-62OVBuT_/edit#gid=415198740) disponible en [Datos abiertos](https://www.datos.gov.co/Agricultura-y-Desarrollo-Rural/Base-de-datos-relacionada-con-madera-movilizada-pr/9aan-wm8m)."
      ],
      "metadata": {
        "id": "RsvM9j3h0z6x"
      }
    },
    {
      "cell_type": "markdown",
      "source": [
        "### Habilitar el acceso a los archivos del Drive"
      ],
      "metadata": {
        "id": "FxSumuMXZq-a"
      }
    },
    {
      "cell_type": "code",
      "source": [
        "# Habilitar el acceso a los archivos del Drive\n",
        "import google.colab as gc\n",
        "gc.drive.mount('/content/drive')"
      ],
      "metadata": {
        "id": "RLUBLaowZxZW"
      },
      "execution_count": null,
      "outputs": []
    },
    {
      "cell_type": "markdown",
      "source": [
        "### Cargar librerías y obtener información del archivo"
      ],
      "metadata": {
        "id": "rTZisvee1Uwl"
      }
    },
    {
      "cell_type": "code",
      "source": [
        "# Importar las librerías requeridas\n",
        "import pandas as pd\n",
        "import numpy as np\n",
        "\n",
        "# Cargar los datos\n",
        "ruta_maderas = '/content/drive/MyDrive/Colab Notebooks/Programación/Archivos_datos/Madera_plantaciones_forestales_comerciales.xlsx'\n",
        "\n",
        "maderas_df = pd.read_excel(ruta_maderas, sheet_name='Produccion')\n",
        "print (maderas_df)"
      ],
      "metadata": {
        "id": "FMrJaUCO1cUe"
      },
      "execution_count": null,
      "outputs": []
    },
    {
      "cell_type": "markdown",
      "source": [
        "### Analizar la información del archivo"
      ],
      "metadata": {
        "id": "pZ33hpgW1c-o"
      }
    },
    {
      "cell_type": "code",
      "source": [
        "# Encontrar los nommbres de las columnas\n",
        "print(\"Los nombres de las columnas del DataFrame son:\", maderas_df.columns.tolist(), sep = \"\\n\")\n",
        "\n",
        "# Encontrar los nombres de las filas\n",
        "print(\"\\nÍndice de las filas del DataFrame:\\n\", maderas_df.index, sep = \"\\n\")\n",
        "\n",
        "# Verficar los tipos de datos de las columnas\n",
        "print(\"Tipo de datos correspondendiente a las columnas:\", maderas_df.dtypes, sep = \"\\n\")\n",
        "\n",
        "# Chequear si hay columnas con valores NA\n",
        "print(\"Reporte de NAs por columnas:\", maderas_df.isna().sum(), sep = \"\\n\")\n",
        "\n",
        "# Seleccionar columnas cuyo tipo de dato es \"object\"\n",
        "print(\"\\nColumnas cuyo tipo de dato es un objeto:\", maderas_df.select_dtypes(include = 'object'), sep = \"\\n\")\n",
        "\n",
        "# Contar valores por columna\n",
        "print(\"Número de veces que aparece cada departamento:\", maderas_df['DPTO'].value_counts(ascending=True), sep = \"\\n\")\n",
        "\n",
        "# identificar valores únicos por columna\n",
        "print(\"Nombres únicos por columna:\", maderas_df['DPTO'].unique(), sep = \"\\n\")\n",
        "\n",
        "# Seleccionar unas columnas\n",
        "maderas_2 = maderas_df[['DPTO', 'MUNICIPIO', 'ESPECIE']]\n",
        "print(\"Departamentos, municipios y especies:\",maderas_2, sep = \"\\n\")\n",
        "\n",
        "# Seleccionar unas filas\n",
        "maderas_3 = maderas_df.iloc[10:16,]\n",
        "print(\"Selección de las filas 10 a 15:\",maderas_3, sep = \"\\n\")\n",
        "\n",
        "# Seleccionar filas y columnas\n",
        "maderas_4 = maderas_df.loc[10:16, ['DPTO', 'MUNICIPIO', 'ESPECIE']]\n",
        "print(\"Selección de filas y columnas:\",maderas_4, sep = \"\\n\")\n",
        "\n",
        "# Filtrar los datos usando una columna\n",
        "maderas_5 = maderas_df[maderas_df['DPTO'] == 'Antioquia']\n",
        "print(\"Datos de Antioquia:\",maderas_5, sep = \"\\n\")\n",
        "\n",
        "# Filtrar datos que cumplan varias condiciones\n",
        "maderas_6 = maderas_df[(maderas_df['DPTO'] == 'Antioquia') & (maderas_df['ESPECIE'] == 'Pinus patula')]\n",
        "print(\"Pinus patula en Antioquia:\",maderas_6, sep = \"\\n\")\n",
        "\n",
        "# Filtrar datos con condiciones tipo OR\n",
        "maderas_7 = maderas_df[(maderas_df['DPTO'] == 'Antioquia') | (maderas_df['ESPECIE'] == 'Pinus patula')]\n",
        "print(\"Maderas en Antioquia o Pinus patula:\",maderas_7, sep = \"\\n\")"
      ],
      "metadata": {
        "id": "cobj5K_61Der"
      },
      "execution_count": null,
      "outputs": []
    },
    {
      "cell_type": "markdown",
      "source": [
        "### Resumir la información del DataFrame por grupos"
      ],
      "metadata": {
        "id": "q-IMBlI1HCO6"
      }
    },
    {
      "cell_type": "code",
      "source": [
        "# Resumir la información por grupos\n",
        "maderas_depto_tipo = maderas_df.groupby(['DPTO','TIPO PRODUCTO'], as_index=False)['AÑO'].agg('count')\n",
        "print(\"La producción de productos por departamento es:\", maderas_depto_tipo, sep =\"\\n\")\n",
        "\n",
        "# Resumir la información para varios grupos al tiempo\n",
        "maderas_depto_especie_tipo = maderas_df.groupby(['DPTO','ESPECIE','TIPO PRODUCTO'], as_index=False)['AÑO'].agg('count')\n",
        "print(\"La producción de productos por especie y departamento es:\", maderas_depto_especie_tipo, sep =\"\\n\")"
      ],
      "metadata": {
        "id": "3c7RfQNXHIbg"
      },
      "execution_count": null,
      "outputs": []
    },
    {
      "cell_type": "markdown",
      "source": [
        "### Construir tablas dinámicas"
      ],
      "metadata": {
        "id": "0CfH3BbCe9gT"
      }
    },
    {
      "cell_type": "code",
      "source": [
        "\n",
        "td_maderas_1 = maderas_df.pivot_table(index = ['DPTO','ESPECIE','TIPO PRODUCTO'], \n",
        "               values = ['VOLUMEN M3'], aggfunc=['sum','count']) \n",
        "print(td_maderas_1)"
      ],
      "metadata": {
        "id": "LP-oz07IevxX"
      },
      "execution_count": null,
      "outputs": []
    },
    {
      "cell_type": "markdown",
      "source": [
        "# Ejercicios"
      ],
      "metadata": {
        "id": "kp9aR6_DXMZZ"
      }
    },
    {
      "cell_type": "markdown",
      "source": [
        "### Descargue dos archivos de [Datos Abiertos](https://www.datos.gov.co/) y practique los conceptos de Pandas"
      ],
      "metadata": {
        "id": "IpDmnN0eHblW"
      }
    },
    {
      "cell_type": "code",
      "source": [],
      "metadata": {
        "id": "Ar-sakTIHvUy"
      },
      "execution_count": null,
      "outputs": []
    }
  ]
}