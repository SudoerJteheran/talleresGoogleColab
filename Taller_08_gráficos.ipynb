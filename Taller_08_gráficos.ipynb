{
  "nbformat": 4,
  "nbformat_minor": 0,
  "metadata": {
    "colab": {
      "provenance": [],
      "authorship_tag": "ABX9TyNIZclht6kTpRELfw28Ew8Q",
      "include_colab_link": true
    },
    "kernelspec": {
      "name": "python3",
      "display_name": "Python 3"
    }
  },
  "cells": [
    {
      "cell_type": "markdown",
      "metadata": {
        "id": "view-in-github",
        "colab_type": "text"
      },
      "source": [
        "<a href=\"https://colab.research.google.com/github/gabrielawad/talleresGoogleColab/blob/main/Taller_08_gr%C3%A1ficos.ipynb\" target=\"_parent\"><img src=\"https://colab.research.google.com/assets/colab-badge.svg\" alt=\"Open In Colab\"/></a>"
      ]
    },
    {
      "cell_type": "markdown",
      "source": [
        "## «El grado sumo del saber es contemplar el porqué».\n",
        "\n",
        "### [Sócrates](https://es.wikipedia.org/wiki/S%C3%B3crates)\n"
      ],
      "metadata": {
        "id": "QMAHoWA1fF5i"
      }
    },
    {
      "cell_type": "markdown",
      "metadata": {
        "id": "mCkyuX8p2SYu"
      },
      "source": [
        "# Taller 08 Gráficos Matplotlib\n",
        "En este taller aprenderá los conceptos básicos de Python 3 relativos a manejo de gráficos con la librería [Matplotlib](https://matplotlib.org/)."
      ]
    },
    {
      "cell_type": "markdown",
      "source": [
        "## Referencias\n",
        "\n",
        "Este taller se basa en información e ideas recopiladas de las siguientes fuentes:\n",
        "\n",
        "* [The Python Graph Gallery](https://python-graph-gallery.com/all-charts/)\n",
        "* [Matplotlib Gallery](https://matplotlib.org/gallery/index.html)\n",
        "* [Tutorial de Matplotlib en Español](https://deepnote.com/@anthonymanotoa/Tutorial-de-Matplolib-en-Espanol-a8031a06-641a-4cef-98ff-a0664ac0c659)\n",
        "* [A Beginner’s Guide to matplotlib for Data Visualization and Exploration in Python](https://www.analyticsvidhya.com/blog/2020/02/beginner-guide-matplotlib-data-visualization-exploration-python/?utm_source=feedburner&utm_medium=email&utm_campaign=Feed%3A+AnalyticsVidhya+(Analytics+Vidhya))\n",
        "* [Gráficos con Matplotlib](https://www.kaggle.com/code/carlosgm9/gr-ficos-con-matplotlib)\n",
        "\n",
        "En [6 Essential Data Visualization Python Libraries – Matplotlib, Seaborn, Bokeh, Altair, Plotly, GGplot](https://www.analyticsvidhya.com/blog/2020/03/6-data-visualization-python-libraries/?utm_source=feedburner&utm_medium=email&utm_campaign=Feed%3A+AnalyticsVidhya+(Analytics+Vidhya)) encontrará un análisis comparativo de seis librerías de Python para visualización de datos \n"
      ],
      "metadata": {
        "id": "GLunRopIf5no"
      }
    },
    {
      "cell_type": "markdown",
      "metadata": {
        "id": "lDdmvi44nenV"
      },
      "source": [
        "# Introducción a Matplotlib\n",
        "\n",
        "En ocasiones tener los datos como resultado de un proceso no es suficiente para entender un problema y por ello se hace necesario buscar maneras donde sea más fácil entenderlos. **Matplotlib** es una librería que permite graficar datos de una manera rápida y flexible, a continuación, se muestra como graficar una línea con base en unos valores con **Matplotlib**.\n",
        "\n",
        "Este taller se basa en:\n",
        "\n",
        "https://matplotlib.org/3.1.0/tutorials/introductory/pyplot.html"
      ]
    },
    {
      "cell_type": "markdown",
      "metadata": {
        "id": "QW_Mm4jKCdS6"
      },
      "source": [
        "# Los gráficos (plot)\n",
        "\n",
        "Los gráficos permiten mostrar la relación entre dos variables."
      ]
    },
    {
      "cell_type": "code",
      "metadata": {
        "id": "NA9oC8YHnenW"
      },
      "source": [
        "# importar librería\n",
        "import matplotlib.pyplot as plt\n",
        "\n",
        "# generar datos\n",
        "datos = range(0,100)\n",
        "\n",
        "# generar gráfico\n",
        "plt.plot(datos, 'b')\n",
        "\n",
        "# establecer etiquetas de los ejes\n",
        "plt.xlabel ('etiqueta eje horizontal')\n",
        "plt.ylabel('etiqueta eje vertical')\n",
        "\n",
        "# establecer el título del gráfico\n",
        "plt.title('Toro ese llanto por nara')\n",
        "\n",
        "# mostrar gráfico\n",
        "plt.show()"
      ],
      "execution_count": null,
      "outputs": []
    },
    {
      "cell_type": "markdown",
      "metadata": {
        "id": "djTQcDvcCz57"
      },
      "source": [
        "### gráficos con dos variables explícitas"
      ]
    },
    {
      "cell_type": "code",
      "metadata": {
        "id": "xhhtOdSBDJr8"
      },
      "source": [
        "# importar librería\n",
        "import matplotlib.pyplot as plt\n",
        "\n",
        "# generar gráfico de una lista vs. otra lista\n",
        "plt.plot([1, 2, 3, 4], [1, 4, 9, 16], 'go')\n",
        "\n",
        "# establecer etiquetas de los ejes\n",
        "plt.xlabel ('primera lista')\n",
        "plt.ylabel('segunda lista')\n",
        "\n",
        "# establecer el título del gráfico\n",
        "plt.title('Título del gráfico')\n",
        "\n",
        "# mostrar gráfico\n",
        "plt.show()"
      ],
      "execution_count": null,
      "outputs": []
    },
    {
      "cell_type": "markdown",
      "metadata": {
        "id": "ukTTLrohD7cn"
      },
      "source": [
        "### ¿Cómo dar formato a los gráficos?\n",
        "\n",
        "Se pueden construir gráficos con diferentes formatos:\n",
        "* 'o' le dice a Pyplot que debe usar puntos en la representación\n",
        "* '--' le dice a Pyplot que debe usar una línea punteada en la representación\n",
        "* '^' le dice a Pyplot que debe usar triángulos en la representación\n",
        "* '' le dice a Pyplot que debe usar una línea en la representación\n",
        "\n",
        "y con diferentes colores\n",
        "* 'r' es rojo\n",
        "* 'b' es azul\n",
        "* 'g' es verde\n",
        "* 'y' es amarillo\n",
        "\n",
        "Además del color y la forma puede agregar otros parámetros para graficar , intente con **linewidth=2.0** para cambiar el ancho de la línea en la función **plot**"
      ]
    },
    {
      "cell_type": "code",
      "metadata": {
        "id": "Bv4Q2eO0EL66"
      },
      "source": [
        "# importar librería\n",
        "import matplotlib.pyplot as plt\n",
        "\n",
        "# generar gráfico con puntos rojos\n",
        "plt.plot([1, 2, 3, 4], [1, 4, 9, 16], 'ro')\n",
        "\n",
        "# configurar los ejes horizontal y vertical\n",
        "plt.axis([0, 5, 0, 18])\n",
        "\n",
        "# establecer etiquetas de los ejes\n",
        "plt.xlabel ('etiqueta eje horizontal')\n",
        "plt.ylabel('etiqueta eje vertical')\n",
        "\n",
        "# establecer el título del gráfico\n",
        "plt.title('Título del gráfico')\n",
        "\n",
        "# mostrar gráfico\n",
        "plt.show()"
      ],
      "execution_count": null,
      "outputs": []
    },
    {
      "cell_type": "markdown",
      "metadata": {
        "id": "0TNJTig_FOhQ"
      },
      "source": [
        "### gráficos con listas"
      ]
    },
    {
      "cell_type": "code",
      "metadata": {
        "id": "E9Tc_W56Fh4W"
      },
      "source": [
        "# importar las librerías requeridas\n",
        "import matplotlib.pyplot as plt\n",
        "import numpy as np\n",
        "\n",
        "# generar un arreglo con datos separados 0.2\n",
        "t = np.arange(0., 5., 0.2)\n",
        "\n",
        "# graficar líneas rojas, cuadrados azules y triángulos verdes\n",
        "plt.plot(t, t, 'r--', t, t**2, 'bs', t, t**3, 'g^')\n",
        "\n",
        "# establecer etiquetas de los ejes\n",
        "plt.xlabel ('etiqueta eje horizontal')\n",
        "plt.ylabel('etiqueta eje vertical')\n",
        "\n",
        "# establecer el título del gráfico\n",
        "plt.title('Título del gráfico')\n",
        "\n",
        "# mostrar gráfico\n",
        "plt.show()"
      ],
      "execution_count": null,
      "outputs": []
    },
    {
      "cell_type": "markdown",
      "metadata": {
        "id": "OU9xAzf-HmrO"
      },
      "source": [
        "### gráfico de raíces"
      ]
    },
    {
      "cell_type": "code",
      "metadata": {
        "id": "ftlmQQEOyTga"
      },
      "source": [
        "# importar las librerías requeridas\n",
        "import matplotlib.pyplot as plt\n",
        "import numpy as np\n",
        "\n",
        "# generar lista de numeros en 0 y 10000 con un delta de 1\n",
        "x = np.arange(0, 100, 1) \n",
        "\n",
        "# generar las raices cuadradas de x\n",
        "y = x**0.5 \n",
        "\n",
        "# graficar la raíz positiva de x en amarillo con línea de ancho 2\n",
        "plt.plot(x, y, 'y', linewidth=2.0) \n",
        "\n",
        "# graficar la raíz negativa de x en azul con linea de ancho 4\n",
        "plt.plot(x, -y, 'bo', linewidth=4.0) \n",
        "\n",
        "plt.title(\"Gráfica de las raíces de X\") # Título\n",
        "plt.ylabel('Raíces de X')\n",
        "plt.xlabel('Valores de X')\n",
        "\n",
        "plt.show()"
      ],
      "execution_count": null,
      "outputs": []
    },
    {
      "cell_type": "markdown",
      "metadata": {
        "id": "ZD05RNbFL9DH"
      },
      "source": [
        "### gráficos a partir de diccionarios"
      ]
    },
    {
      "cell_type": "code",
      "metadata": {
        "id": "_qIEaosBMAva"
      },
      "source": [
        "# importar las librerías requeridas\n",
        "import matplotlib.pyplot as plt\n",
        "import numpy as np\n",
        "\n",
        "# generar los datos\n",
        "datos = {'primero': np.arange(50),\n",
        "         'segundo' : np.arange(50) + 10 * np.random.randn(50),\n",
        "        'tercero': np.random.randint(0, 50, 50),\n",
        "        'cuarto': np.random.randn(50)}\n",
        "\n",
        "\n",
        "# generar el gráfico con las claves del diccionario\n",
        "plt.scatter('primero', 'segundo', 'tercero', 'cuarto',  data=datos)\n",
        "\n",
        "# generar etiquetas\n",
        "plt.xlabel('eje x')\n",
        "plt.ylabel('eje y')\n"
      ],
      "execution_count": null,
      "outputs": []
    },
    {
      "cell_type": "markdown",
      "metadata": {
        "id": "9TzPe-I-eD1q"
      },
      "source": [
        "## gráficos apilables"
      ]
    },
    {
      "cell_type": "code",
      "metadata": {
        "id": "cxVcJp7veHx7"
      },
      "source": [
        "# importar las librerías requeridas\n",
        "import matplotlib.pyplot as plt\n",
        "import numpy as np\n",
        "\n",
        "# generar los datos\n",
        "x = [1, 2, 3, 4, 5]\n",
        "fibo = [1, 1, 2, 3, 5]\n",
        "par = [0, 4, 2, 6, 8]\n",
        "impar = [1, 3, 5, 7, 9]\n",
        "\n",
        "# generar los nombres\n",
        "nombres = [\"Fibonacci \", \"Pares\", \"Impares\"]\n",
        "\n",
        "# crear la figura\n",
        "fig, ax = plt.subplots()\n",
        "ax.stackplot(x, fibo, par, impar, labels=nombres)\n",
        "ax.legend(loc='upper left')\n",
        "\n",
        "plt.show()"
      ],
      "execution_count": null,
      "outputs": []
    },
    {
      "cell_type": "markdown",
      "metadata": {
        "id": "Nr5mM_e9G-PV"
      },
      "source": [
        "# Elementos de una figura\n",
        "\n",
        "El siguiente código muestra los diferentes elementos que componen una figura en matplotlib\n",
        "\n",
        "Código adaptado de https://matplotlib.org/examples/showcase/anatomy.html"
      ]
    },
    {
      "cell_type": "code",
      "metadata": {
        "id": "FcyiAMCoHLMx"
      },
      "source": [
        "# Este código muestra los lementos que componen una figura en matplotlib\n",
        "\n",
        "# importar las librerías necesarias\n",
        "import numpy as np\n",
        "import matplotlib.pyplot as plt\n",
        "from matplotlib.ticker import AutoMinorLocator, MultipleLocator, FuncFormatter\n",
        "\n",
        "# definir función para ubicar los marcadores\n",
        "def minor_tick(x, pos):\n",
        "    if not x % 1.0:\n",
        "        return \"\"\n",
        "    return \"%.2f\" % x\n",
        "\n",
        "# definir función para generar círculos\n",
        "def circle(x, y, radius=0.15):\n",
        "    '''Función que grnera círculos'''\n",
        "    from matplotlib.patches import Circle\n",
        "    from matplotlib.patheffects import withStroke\n",
        "    circle = Circle((x, y), radius, clip_on=False, zorder=10, linewidth=1,\n",
        "                    edgecolor='black', facecolor=(0, 0, 0, .0125),\n",
        "                    path_effects=[withStroke(linewidth=5, foreground='w')])\n",
        "    ax.add_artist(circle)\n",
        "\n",
        "# definir función para personalizar textos\n",
        "def text(x, y, texto):\n",
        "    '''Función que permite personalizar los textos dentro de un gráfico'''\n",
        "    ax.text(x, y, texto, backgroundcolor=\"white\",\n",
        "            ha='center', va='top', weight='bold', color='blue')\n",
        "\n",
        "# establecer una semilla para la generación de los números aleatorios\n",
        "np.random.seed(19680801)\n",
        "\n",
        "\n",
        "# generar los datos a graficar\n",
        "X = np.linspace(0.5, 3.5, 100)\n",
        "Y1 = 3+np.cos(X)\n",
        "Y2 = 1+np.cos(1+X/0.75)/2\n",
        "Y3 = np.random.uniform(Y1, Y2, len(X))\n",
        "\n",
        "# crear una figura de un tamaño preestablecido\n",
        "fig = plt.figure(figsize=(10, 10))\n",
        "\n",
        "# asignar un nombre a la figura y agregar el espacio para los gráficos auxiliares\n",
        "ax = fig.add_subplot(1, 1, 1, aspect=1)\n",
        "\n",
        "\n",
        "# ubicar los marcadores\n",
        "ax.xaxis.set_major_locator(MultipleLocator(1.000))\n",
        "ax.xaxis.set_minor_locator(AutoMinorLocator(4))\n",
        "ax.yaxis.set_major_locator(MultipleLocator(1.000))\n",
        "ax.yaxis.set_minor_locator(AutoMinorLocator(4))\n",
        "ax.xaxis.set_minor_formatter(FuncFormatter(minor_tick))\n",
        "\n",
        "# establecer los límites de los ejes\n",
        "ax.set_xlim(0, 4)\n",
        "ax.set_ylim(0, 4)\n",
        "\n",
        "# configurar los marcadores\n",
        "ax.tick_params(which='major', width=1.0)\n",
        "ax.tick_params(which='major', length=10)\n",
        "ax.tick_params(which='minor', width=1.0, labelsize=10)\n",
        "ax.tick_params(which='minor', length=5, labelsize=10, labelcolor='0.25')\n",
        "\n",
        "# agregar una rejilla al gráfico\n",
        "ax.grid(linestyle=\"--\", linewidth=0.5, color='.25', zorder=-10)\n",
        "\n",
        "# configurar los elementos que se van a graficar\n",
        "ax.plot(X, Y1, c=(0.25, 0.25, 1.00), lw=2, label=\"Línea azul\", zorder=10)\n",
        "ax.plot(X, Y2, c=(1.00, 0.25, 0.25), lw=2, label=\"Línea roja\")\n",
        "ax.plot(X, Y3, linewidth=0,\n",
        "        marker='o', markerfacecolor='w', markeredgecolor='k')\n",
        "\n",
        "# establecer título y etiquetas\n",
        "ax.set_title(\"Elementos de una figura\", fontsize=20, verticalalignment='bottom')\n",
        "ax.set_xlabel(\"eje X\")\n",
        "ax.set_ylabel(\"eje Y\")\n",
        "\n",
        "# establecer las leyendas\n",
        "ax.legend()\n",
        "\n",
        "# indicador de marcador auxiliar\n",
        "circle(0.50, -0.10)\n",
        "text(0.50, -0.32, \"etiqueta marcador auxiliar\")\n",
        "\n",
        "# indicador de marcador principal\n",
        "circle(-0.03, 4.00)\n",
        "text(0.03, 3.80, \"etiqueta marcador principal\")\n",
        "\n",
        "# indicar etiqueta eje X\n",
        "circle(2, 0, 0.40)\n",
        "text(2, -0.45, \"etiqueta eje X\")\n",
        "\n",
        "# indicar etiqueta eje Y\n",
        "circle(-0.27, 2, 0.40)\n",
        "text(-0.27, 1.6, \"etiqueta eje Y\")\n",
        "\n",
        "# indicar etiqueta título\n",
        "#circle(1.60, 4.13)\n",
        "#text(1.60, 3.93, \"Título\")\n",
        "\n",
        "# indicar línea roja\n",
        "circle(1.20, 0.60)\n",
        "text(1.20, 0.40, \"Línea\\n(gráfico de línea)\")\n",
        "\n",
        "# indicar gráfico de dispersión\n",
        "circle(1.20, 1.75)\n",
        "text(1.20, 1.55, \"Marcadores\\n(gráfico de dispersión)\")\n",
        "\n",
        "# indicar rejilla\n",
        "circle(3.00, 3.00)\n",
        "text(3.00, 2.80, \"Rejilla\")\n",
        "\n",
        "# indicar leyenda\n",
        "circle(3.70, 3.80)\n",
        "text(3.70, 3.60, \"Leyenda\")\n",
        "\n",
        "color = 'green'\n",
        "\n",
        "# flecha hacia la derecha\n",
        "ax.annotate('Ejes', xy=(4.0, 0.75), xycoords='data',\n",
        "            xytext=(3.3, 0.5), textcoords='data',\n",
        "            weight='bold', color=color,\n",
        "            arrowprops=dict(arrowstyle='->',\n",
        "                            connectionstyle=\"arc3\",\n",
        "                            color=color))\n",
        "# flecha hacia la izquierda\n",
        "ax.annotate('', xy=(3.2, 0.0), xycoords='data',\n",
        "            xytext=(3.45, 0.45), textcoords='data',\n",
        "            weight='bold', color=color,\n",
        "            arrowprops=dict(arrowstyle='->',\n",
        "                            connectionstyle=\"arc3\",\n",
        "                            color='red'))\n",
        "\n",
        "ax.text(4.0, -0.4, \"Elaborado con http://matplotlib.org\",\n",
        "        fontsize=10, ha=\"right\", color='.5')\n",
        "\n",
        "plt.show()\n"
      ],
      "execution_count": null,
      "outputs": []
    },
    {
      "cell_type": "markdown",
      "metadata": {
        "id": "ZrEoTJO5J96E"
      },
      "source": [
        "### Exploración\n",
        "\n",
        "Copia a continuación el código que se encuentra en la anterior celda y ensaye a modificar los diferentes parámetros.\n",
        "\n",
        "Observe y analice los efectos de los cambios efectuado en los parámetros"
      ]
    },
    {
      "cell_type": "code",
      "metadata": {
        "id": "U8QJQ1IoKWDb"
      },
      "source": [
        "# Copie a continuación el código y explore lo que sucede al modificar los parámetros\n",
        "\n"
      ],
      "execution_count": null,
      "outputs": []
    },
    {
      "cell_type": "markdown",
      "metadata": {
        "id": "NBumGZ6KQuSk"
      },
      "source": [
        "### ejemplo de figura"
      ]
    },
    {
      "cell_type": "code",
      "metadata": {
        "id": "qGrQ5sEP1jkf"
      },
      "source": [
        "# importar las librerías requeridas\n",
        "import matplotlib.pyplot as plt\n",
        "import numpy as np\n",
        "\n",
        "# generar los datos\n",
        "x = np.linspace(0, 2, 100)\n",
        "\n",
        "# crear la figura y asignar un tamaño\n",
        "plt.figure(figsize=(10, 10)) \n",
        "\n",
        "# establecer los componentes de la figura\n",
        "plt.plot(x, x, label='lineal')\n",
        "plt.plot(x, x**2, label='cuadrática')\n",
        "plt.plot(x, x**3, label='cúbica')\n",
        "\n",
        "# establecer los nombres de los ejes\n",
        "plt.xlabel('eje x')\n",
        "plt.ylabel('eje y')\n",
        "\n",
        "# establecer el título de la figura\n",
        "plt.title(\"Figura simple\")\n",
        "\n",
        "# generar el recuadro con las leyendas\n",
        "plt.legend()\n",
        "\n",
        "plt.show()"
      ],
      "execution_count": null,
      "outputs": []
    },
    {
      "cell_type": "markdown",
      "metadata": {
        "id": "iLRJ2cC6nena"
      },
      "source": [
        "### Generación de varios gráficos en un mismo espacio\n",
        "\n",
        "Puede graficar múltiples funciones con el uso de la función figure de pyplot, esta crea un \"espacio\" en el grafo principal que le permite dividir el espacio en n filas y m columnas, solo debe agregar subplots a la figura:"
      ]
    },
    {
      "cell_type": "code",
      "metadata": {
        "id": "ZoS5L7vanenk"
      },
      "source": [
        "# Gráfico de múltiples funciones en coordenadas polares y ordenadas\n",
        "\n",
        "# importar las librerías requeridas\n",
        "import matplotlib.pyplot as plt\n",
        "import numpy as np\n",
        "\n",
        "# valores que tomará X estan entre 0 y 2PI con un delta de 0.1\n",
        "x = np.arange(0,2*np.pi,0.1) \n",
        "\n",
        "# rosa polar de cinco pétalos (5*np.cos(5*x))\n",
        "rosa_polar = 1*np.cos(1*x) \n",
        "\n",
        "# espiral de Arquímedes (5 + 50*x)\n",
        "espiral_arquimedes = 10 + 100*x \n",
        "\n",
        "# función seno de x\n",
        "seno = np.sin(2*x)  \n",
        "\n",
        "# la función figure crea un \"espacio\" donde almacenar diferentes graficas\n",
        "fig = plt.figure() \n",
        "\n",
        "# graficar rosa polar de 5 petalos\n",
        "ax = fig.add_subplot(221, projection=\"polar\") \n",
        "ax.plot(rosa_polar,color=\"cyan\",linewidth=3) \n",
        "\n",
        "\n",
        "# graficar espiral de arquimedes\n",
        "ax = fig.add_subplot(222, projection=\"polar\") \n",
        "ax.plot(espiral_arquimedes,color=\"black\",linewidth=2) # G\n",
        "\n",
        "# graficar seno de x en la posición (212)\n",
        "ax = fig.add_subplot(212) \n",
        "ax.plot(seno,color=\"black\",linewidth=2) \n",
        "\n",
        "# mostrar las gráficas\n",
        "plt.show() "
      ],
      "execution_count": null,
      "outputs": []
    },
    {
      "cell_type": "markdown",
      "metadata": {
        "id": "JdHVAo-7nenm"
      },
      "source": [
        "### Aclaración\n",
        "\n",
        "* La rosa es graficada en ese espacio pues para ella la figura está divida en 2x2 y esta ocupa el primer espacio, lo que le da la esquina superior izquierda.\n",
        "* La función seno es graficada en ese espacio pues para ella la figura está dividida en 2x1 y ocupa el segundo espacio, lo que le da toda la parte baja de la figura.\n",
        "\n"
      ]
    },
    {
      "cell_type": "markdown",
      "metadata": {
        "id": "GTiopDWtX-t7"
      },
      "source": [
        "### incluyendo anotaciones en los gráficos"
      ]
    },
    {
      "cell_type": "code",
      "metadata": {
        "id": "PAuRIM5zYD3F"
      },
      "source": [
        "# importar las librerías requeridas\n",
        "import matplotlib.pyplot as plt\n",
        "import numpy as np\n",
        "\n",
        "# generar los datos\n",
        "t = np.arange(0.0, 5.0, 0.01)\n",
        "s = np.cos(2*np.pi*t)\n",
        "#s = np.cos(0.5*np.pi*t)\n",
        "\n",
        "# generar un gráfico con una línea de ancho 3\n",
        "plt.plot(t, s, lw=3)\n",
        "\n",
        "# generar los límites del eje y\n",
        "plt.ylim(-1.5, 2)\n",
        "\n",
        "# generar anotación\n",
        "plt.annotate('máximo local', xy=(2, 1), xytext=(3, 1.8),\n",
        "             arrowprops=dict(facecolor='black', shrink=0.05),\n",
        "             )\n",
        "\n",
        "\n",
        "\n",
        "\n",
        "plt.show()"
      ],
      "execution_count": null,
      "outputs": []
    },
    {
      "cell_type": "markdown",
      "metadata": {
        "id": "YyDvsQArSSHk"
      },
      "source": [
        "### gráficos con variables categóricas"
      ]
    },
    {
      "cell_type": "code",
      "metadata": {
        "id": "1v1pXGznSW1l"
      },
      "source": [
        "# importar las librerías requeridas\n",
        "import matplotlib.pyplot as plt\n",
        "import numpy as np\n",
        "\n",
        "# generar nombres y datos\n",
        "nombres = ['grupo_a', 'grupo_b', 'grupo_c', 'grupo_d']\n",
        "valores = [1, 10, 100, 50]\n",
        "\n",
        "# crear la figura\n",
        "plt.figure(figsize=(12, 3))\n",
        "\n",
        "# representación con barras\n",
        "plt.subplot(131)\n",
        "plt.bar(nombres, valores)\n",
        "\n",
        "# representación con puntos\n",
        "plt.subplot(132)\n",
        "plt.scatter(nombres, valores)\n",
        "\n",
        "# representación con líneas\n",
        "plt.subplot(133)\n",
        "plt.plot(nombres, valores)\n",
        "\n",
        "# generar título superior\n",
        "plt.suptitle('Representación de variables categóricas')\n",
        "\n",
        "plt.show()"
      ],
      "execution_count": null,
      "outputs": []
    },
    {
      "cell_type": "markdown",
      "metadata": {
        "id": "G7ACr9-LgU9P"
      },
      "source": [
        "### gráficos de barras apilados"
      ]
    },
    {
      "cell_type": "code",
      "metadata": {
        "id": "rp64_Kh-gaiE"
      },
      "source": [
        "# importar las librerías requeridas\n",
        "import matplotlib.pyplot as plt\n",
        "import numpy as np\n",
        "\n",
        "# generar los datos\n",
        "n = 5\n",
        "promHombres = (20, 35, 30, 35, 27)\n",
        "promMujeres = (25, 32, 34, 20, 25)\n",
        "\n",
        "# ubicar en el eje x los grupos\n",
        "ind = np.arange(n)    \n",
        "\n",
        "# establecer el ancho de las barras\n",
        "width = 0.35\n",
        "\n",
        "# generar los gráficos\n",
        "p1 = plt.bar(ind, promHombres, width)\n",
        "p2 = plt.bar(ind, promMujeres, width,\n",
        "             bottom=promHombres)\n",
        "\n",
        "# establecer las etiquetas\n",
        "plt.ylabel('Marcadores')\n",
        "plt.title('Marcadores por grupo y género')\n",
        "plt.xticks(ind, ('G1', 'G2', 'G3', 'G4', 'G5'))\n",
        "plt.yticks(np.arange(0, 81, 10))\n",
        "plt.legend((p1[0], p2[0]), ('Hombres', 'Mujeres'))\n",
        "\n",
        "plt.show()\n",
        "\n"
      ],
      "execution_count": null,
      "outputs": []
    },
    {
      "cell_type": "markdown",
      "metadata": {
        "id": "TqBuyJWKUUav"
      },
      "source": [
        "### varias figuras y varios ejes"
      ]
    },
    {
      "cell_type": "code",
      "metadata": {
        "id": "Rv60_3nqUX0f"
      },
      "source": [
        "# importar las librerías requeridas\n",
        "import matplotlib.pyplot as plt\n",
        "import numpy as np\n",
        "\n",
        "# función para transformar los datos\n",
        "def f(t):\n",
        "    return np.exp(-t) * np.cos(2*np.pi*t)\n",
        "\n",
        "# generar los valores para t1 y t2\n",
        "t1 = np.arange(0.0, 5.0, 0.1)\n",
        "t2 = np.arange(0.0, 5.0, 0.02)\n",
        "\n",
        "# crear la figura\n",
        "plt.figure()\n",
        "\n",
        "# crear primer subgráfico\n",
        "plt.subplot(211)\n",
        "plt.plot(t1, f(t1), 'bo', t2, f(t2), 'k')\n",
        "\n",
        "# crear segundo subgráfico\n",
        "plt.subplot(212)\n",
        "plt.plot(t2, np.cos(2*np.pi*t2), 'r--')\n",
        "\n",
        "plt.show()"
      ],
      "execution_count": null,
      "outputs": []
    },
    {
      "cell_type": "markdown",
      "metadata": {
        "id": "xwY5-RNRVz2w"
      },
      "source": [
        "### histograma"
      ]
    },
    {
      "cell_type": "code",
      "metadata": {
        "id": "t9tpBAxeV2gF"
      },
      "source": [
        "# importar las librerías requeridas\n",
        "import matplotlib.pyplot as plt\n",
        "import numpy as np\n",
        "\n",
        "# generar los datos de una distribución normal\n",
        "mu = 100\n",
        "sigma = 15\n",
        "x = mu + sigma * np.random.randn(10000)\n",
        "\n",
        "# crear el histograma de los datos\n",
        "n, bins, patches = plt.hist(x, 50, density=1, facecolor='g', alpha=0.75)\n",
        "\n",
        "# generar etiquetas y títulos\n",
        "plt.xlabel('datos')\n",
        "plt.ylabel('probabilidad')\n",
        "plt.title('histograma de datos')\n",
        "plt.text(60, .025, r'$\\mu=100,\\ \\sigma=15$')\n",
        "\n",
        "# generar límites de los ejes\n",
        "plt.axis([40, 160, 0, 0.03])\n",
        "\n",
        "# generar rejilla\n",
        "plt.grid(True)\n",
        "\n",
        "plt.show()"
      ],
      "execution_count": null,
      "outputs": []
    },
    {
      "cell_type": "markdown",
      "metadata": {
        "id": "5Bgx74t9LHNm"
      },
      "source": [
        "# Matplotlib 3D\n",
        "\n",
        "Graficar en 3D es similar a graficar en 2D, solo debe crear una función de varias variables (en este caso tres) y aplicarla a un gráfico.\n",
        "\n",
        "**Nota: Para graficar en Matplotlib en 3D consulte http://matplotlib.org/mpl_toolkits/mplot3d/tutorial.html. El uso de estas librerías requiere de un conocimiento mayor y de funciones de varias variables por lo tanto se deja a criterio del estudiante su aprendizaje.**"
      ]
    },
    {
      "cell_type": "code",
      "metadata": {
        "id": "INtq0uZMnenn"
      },
      "source": [
        "# Gráfico de una esfera de radio 10\n",
        "import matplotlib.pyplot as plt\n",
        "import numpy as np\n",
        "from mpl_toolkits.mplot3d import Axes3D\n",
        "\n",
        "\n",
        "fig = plt.figure()\n",
        "ax = Axes3D(fig)\n",
        "\n",
        "# Se generan los posibles valores para los parametros u, v\n",
        "u = np.linspace(0, 2 * np.pi, 100) \n",
        "v = np.linspace(0, np.pi, 100)\n",
        "\n",
        "# Se calculan los vectores x, y, z\n",
        "x = 10 * np.outer(np.cos(u), np.sin(v))\n",
        "y = 10 * np.outer(np.sin(u), np.sin(v))\n",
        "z = 10 * np.outer(np.ones(np.size(u)), np.cos(v))\n",
        "\n",
        "# Graficar vectores en azul\n",
        "ax.plot_wireframe(x, y, z, color='b') # Prueba a cambiar \"plot_wireframe\" por \"plot_surface\"\n",
        "\n",
        "plt.show()"
      ],
      "execution_count": null,
      "outputs": []
    },
    {
      "cell_type": "markdown",
      "metadata": {
        "id": "y_lLpRVBwAsr"
      },
      "source": [
        "#  Gráfico con datos faltantes e índices de fecha"
      ]
    },
    {
      "cell_type": "code",
      "metadata": {
        "id": "Y6Qt41USwFkd"
      },
      "source": [
        "import pandas as pd\n",
        "import numpy as np\n",
        "import matplotlib.pyplot as plt\n",
        "\n",
        "dates = pd.date_range('20160301', periods=6, freq='D')\n",
        "\n",
        "numbers = np.arange(10, 16)\n",
        "\n",
        "ts = pd.Series([1,3,5,np.nan,6,8], index=dates)\n",
        "\n",
        "print(ts)\n",
        "\n",
        "ts.plot()\n",
        "\n",
        "plt.show()"
      ],
      "execution_count": null,
      "outputs": []
    },
    {
      "cell_type": "markdown",
      "metadata": {
        "id": "O6z0ugSGwv2o"
      },
      "source": [
        "# Datos mina"
      ]
    },
    {
      "cell_type": "code",
      "metadata": {
        "id": "iE5e6pBBwxlU"
      },
      "source": [
        "# Datos reales de mina\n",
        "import pandas as pd\n",
        "import numpy as np\n",
        "import matplotlib.pyplot as plt\n",
        "\n",
        "values = pd.read_csv('Carbon_v3.csv')\n",
        "# print (values)\n",
        "\n",
        "values.plot()\n",
        "\n",
        "plt.show()"
      ],
      "execution_count": null,
      "outputs": []
    },
    {
      "cell_type": "code",
      "metadata": {
        "id": "O7jZg-E2w6FA"
      },
      "source": [
        "# Datos reales de mina\n",
        "import pandas as pd\n",
        "import numpy as np\n",
        "import matplotlib.pyplot as plt\n",
        "\n",
        "values = pd.read_csv('Carbon_v3.csv')\n",
        "# print (values)\n",
        "\n",
        "values.plot()\n",
        "\n",
        "plt.savefig('Carbones_v4.jpg')"
      ],
      "execution_count": null,
      "outputs": []
    },
    {
      "cell_type": "markdown",
      "source": [
        "# Aplicaciones"
      ],
      "metadata": {
        "id": "_6mDLOOIiuQQ"
      }
    },
    {
      "cell_type": "markdown",
      "metadata": {
        "id": "F2dObksPxL9y"
      },
      "source": [
        "## Resultados pruebas SABER 2016-02"
      ]
    },
    {
      "cell_type": "code",
      "metadata": {
        "id": "7AfHt-RNxQVh"
      },
      "source": [
        "# importar las librerías requeridas\n",
        "import pandas as pd\n",
        "import numpy as np\n",
        "import matplotlib.pyplot as plt\n",
        "import openpyxl\n",
        "\n",
        "# cargar los datos\n",
        "df = pd.read_csv('saber11_20162.csv', sep=';', decimal=',')\n",
        "\n",
        "# seleccionar el municipio deseado 5001\n",
        "datos = df[df.CODIGOMUNICIPIO == 5001 ]\n",
        "#datos = df[df.JORNADA == 'COMPLETA']\n",
        "\n",
        "# calcular los promedios\n",
        "promedios = datos.iloc[:, 9:14]\n",
        "df3 = pd.DataFrame(promedios.values, index=datos['NOMBREINSTITUCION'], columns=promedios.columns)\n",
        "promedios = df3.mean(1)\n",
        "\n",
        "# organizar promedios en orden descendente y graficar\n",
        "promedios = promedios.sort_values(ascending=False)\n",
        "promedios[:10].plot(kind='barh')\n",
        "plt.show()\n",
        "\n",
        "print(promedios[:10])\n",
        "\n",
        "\n",
        "# organizar promedios en orden descendente y graficar\n",
        "promedios = promedios.sort_values()\n",
        "promedios[:10].plot(kind='barh')\n",
        "plt.show()\n",
        "\n",
        "print(promedios[:10])"
      ],
      "execution_count": null,
      "outputs": []
    },
    {
      "cell_type": "markdown",
      "metadata": {
        "id": "zrRS1Nn5bDXz"
      },
      "source": [
        "## Ejemplos con pruebas Saber 2016-02"
      ]
    },
    {
      "cell_type": "markdown",
      "metadata": {
        "id": "t3fcRmbKdgJ5"
      },
      "source": [
        "### paso 0 importar librerías requeridas, cargar datos, validar datos cargados"
      ]
    },
    {
      "cell_type": "code",
      "metadata": {
        "id": "gRvFddxnbKSg"
      },
      "source": [
        "# importar las librerías requeridas\n",
        "import pandas as pd\n",
        "import numpy as np\n",
        "import matplotlib.pyplot as plt\n",
        "import openpyxl\n",
        "\n",
        "# los estilos se pueden consultar en https://python-graph-gallery.com/199-matplotlib-style-sheets/\n",
        "plt.style.use('seaborn')\n",
        "\n",
        "# cargar los datos\n",
        "saber2016_df = pd.read_csv('saber11_20162.csv', sep=';', decimal=',')\n",
        "print (saber2016_df.head())"
      ],
      "execution_count": null,
      "outputs": []
    },
    {
      "cell_type": "markdown",
      "metadata": {
        "id": "0FjvuNameFmo"
      },
      "source": [
        "### paso 1 mirar la información en tablas\n",
        "\n",
        "saber2016_table = pd.pivot_table(data=saber2016_df,index='NATURALEZA',values='EVALUADOS',aggfunc=np.sum)\n",
        "saber2016_table"
      ]
    },
    {
      "cell_type": "code",
      "metadata": {
        "id": "lVGjTFWCe_ZC"
      },
      "source": [
        "saber2016_table = pd.pivot_table(data=saber2016_df,index='NATURALEZA',values='EVALUADOS',aggfunc=np.sum)\n",
        "saber2016_table"
      ],
      "execution_count": null,
      "outputs": []
    },
    {
      "cell_type": "code",
      "metadata": {
        "id": "FuXxFhilhbyO"
      },
      "source": [
        "saber2016_table_2 = pd.pivot_table(data=saber2016_df,index='NATURALEZA',values='PROMLECTURACRITICA',aggfunc=np.mean)\n",
        "# saber2016_table_2\n",
        "print(saber2016_table_2)"
      ],
      "execution_count": null,
      "outputs": []
    },
    {
      "cell_type": "markdown",
      "metadata": {
        "id": "31N6pc7KphYW"
      },
      "source": [
        "### paso 2 graficar la información de una tabla"
      ]
    },
    {
      "cell_type": "code",
      "metadata": {
        "id": "PKxcZqy6q-sd"
      },
      "source": [
        "#print(saber2016_table.index)\n",
        "# gráfico de barras\n",
        "plt.bar(saber2016_table.index,saber2016_table['EVALUADOS'])\n",
        "\n",
        "#xticks \n",
        "plt.xticks(rotation=70) \n",
        "\n",
        "# etiqueta eje x\n",
        "plt.xlabel('Tipo de institución') \n",
        "\n",
        "# etiqueta eje y\n",
        "plt.ylabel('Estudiantes evaluados') \n",
        "\n",
        "# título del gráfico\n",
        "plt.title('Total estudiantes') \n",
        "\n",
        "# guardar el gráfico\n",
        "plt.savefig('saber2016_bar.png',dpi=300,bbox_inches='tight') \n",
        "\n",
        "# mostrar el gráfico en pantalla\n",
        "plt.show()"
      ],
      "execution_count": null,
      "outputs": []
    },
    {
      "cell_type": "markdown",
      "source": [
        "# Ejercicios\n",
        "\n",
        "Busque tres bases de datos en [Datos Abiertos](https://www.datos.gov.co/) y haga análisis gráfico de sus contenidos."
      ],
      "metadata": {
        "id": "0yTFeRH4CecT"
      }
    }
  ]
}